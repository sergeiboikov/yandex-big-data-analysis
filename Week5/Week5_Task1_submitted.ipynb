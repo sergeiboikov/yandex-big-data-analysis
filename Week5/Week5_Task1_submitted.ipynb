{
 "cells": [
  {
   "cell_type": "markdown",
   "metadata": {},
   "source": [
    "### Graph based Music Recommender. Task 1\n",
    "Build the edges of the type “track-track”. To do it you will need to count the collaborative similarity between all the tracks: if a user has started listening to track B within 7 minutes after starting track A, then you should add 1 to the weight of the edge from vertex A to vertex B (initial weight is equal to 0).\n",
    "\n",
    "Example:\n",
    "\n",
    "`userId artistId trackId timestamp\n",
    "7        12        1          1534574189\n",
    "7        13        4          1534574289 \n",
    "5        12        1          1534574389 \n",
    "5        13        4          1534594189 \n",
    "6        12        1          1534574489 \n",
    "6        13        4          1534574689` \n",
    "\n",
    "The track 1 is similar to the track 4 with the weight 2 (before normalization): the user 7 and the user 6 listened these 2 tracks together in the 7 minutes long window:\n",
    "\n",
    "- userId 7: 1534574289 - 1534574189 = 100 seconds = 1 min 40 seconds < 7 minutes\n",
    "- userId 6: 1534574689 - 1534574489 = 200 seconds = 3 min 20 seconds < 7 minutes\n",
    "Note that the track 4 is similar to the track 1 with the same weight 2.\n",
    "\n",
    "**Tip:** consider joining the graph to itself with the UserId and remove pairs with the same tracks.For each track choose top 50 tracks ordered by weight similar to it and normalize weights of its edges (divide the weight of each edge on a sum of weights of all edges). Use rank() to choose top 40 tracks as is done in the demo.\n",
    "\n",
    "Sort the resulting Data Frame in the descending order by the column norm_weight, and then in the ascending order this time first by “id1”, then by “id2”. Take top 40 rows, select only the columns “id1”, “id2”, and print the columns “id1”, “id2” of the resulting dataframe.\n",
    "\n",
    "**Output example:**\n",
    "\n",
    "`54719\t\t767867\n",
    "54719\t\t767866\n",
    "50787\t\t327676`"
   ]
  },
  {
   "cell_type": "code",
   "execution_count": 145,
   "metadata": {},
   "outputs": [],
   "source": [
    "#import os\n",
    "#execfile(os.path.join(os.environ[\"SPARK_HOME\"], 'python/pyspark/shell.py'))"
   ]
  },
  {
   "cell_type": "code",
   "execution_count": 137,
   "metadata": {},
   "outputs": [],
   "source": [
    "from pyspark.sql import SparkSession\n",
    "sparkSession = SparkSession.builder.enableHiveSupport().master(\"local\").getOrCreate()"
   ]
  },
  {
   "cell_type": "code",
   "execution_count": 138,
   "metadata": {},
   "outputs": [],
   "source": [
    "data = sparkSession.read.parquet(\"/data/sample264\")\n",
    "meta = sparkSession.read.parquet(\"/data/meta\")"
   ]
  },
  {
   "cell_type": "code",
   "execution_count": 139,
   "metadata": {},
   "outputs": [],
   "source": [
    "from pyspark.sql import Window\n",
    "from pyspark.sql.functions import row_number, sum\n",
    "\n",
    "def norm(df, key1, key2, field, n): \n",
    "    \n",
    "    window = Window.partitionBy(key1).orderBy(col(field).desc())\n",
    "    \n",
    "    topsDF = df.withColumn(\"row_number\", row_number().over(window)) \\\n",
    "        .filter(col(\"row_number\") <= n) \\\n",
    "        .drop(col(\"row_number\")) \n",
    "\n",
    "    tmpDF = topsDF.groupBy(col(key1)).agg(col(key1), sum(col(field)).alias(\"sum_\" + field))\n",
    "\n",
    "    normalizedDF = topsDF.join(tmpDF, key1, \"inner\") \\\n",
    "        .withColumn(\"norm_\" + field, col(field) / col(\"sum_\" + field)) \\\n",
    "        .cache()\n",
    "\n",
    "    return normalizedDF"
   ]
  },
  {
   "cell_type": "code",
   "execution_count": 216,
   "metadata": {},
   "outputs": [],
   "source": [
    "from pyspark.sql.functions import collect_list, col, abs, count, rank\n",
    "\n",
    "data1 = data.select(col(\"userId\"), col(\"trackId\").alias(\"trackId1\"), col(\"timestamp\").alias(\"timestamp1\"));\n",
    "    \n",
    "data2 = data.select(col(\"userId\"), col(\"trackId\").alias(\"trackId2\"), col(\"timestamp\").alias(\"timestamp2\"));\n",
    "\n",
    "similarityDF = data1.join(data2, \"userId\", \"inner\")\\\n",
    "    .filter(abs(col(\"timestamp1\")-col(\"timestamp2\"))/60 <= 7)\\\n",
    "    .filter(col(\"trackId1\") != col(\"trackId2\"))\\\n",
    "    .groupBy(col('trackId1'), col('trackId2'))\\\n",
    "    .count().alias('count')\\\n",
    "    .cache();"
   ]
  },
  {
   "cell_type": "code",
   "execution_count": 217,
   "metadata": {},
   "outputs": [],
   "source": [
    "normalizedDF = norm(similarityDF, \"trackId1\", \"trackId2\", \"count\", 50);"
   ]
  },
  {
   "cell_type": "code",
   "execution_count": 218,
   "metadata": {},
   "outputs": [],
   "source": [
    "window = Window.orderBy(col(\"norm_count\").desc())\n",
    "\n",
    "similarTrackList = normalizedDF.withColumn(\"position\", rank().over(window)) \\\n",
    "    .orderBy(col(\"norm_count\"), col(\"trackId1\"), col(\"trackId2\"))\\\n",
    "    .filter(col(\"position\") < 50);\n",
    "    \n",
    "result = similarTrackList\\\n",
    "    .select(col(\"trackId1\"), col(\"trackId2\"))\\\n",
    "    .orderBy(col(\"trackId1\"), col(\"trackId2\"))\\\n",
    "    .take(40);"
   ]
  },
  {
   "cell_type": "code",
   "execution_count": 219,
   "metadata": {},
   "outputs": [
    {
     "name": "stdout",
     "output_type": "stream",
     "text": [
      "798256 923706\n",
      "798319 837992\n",
      "798322 876562\n",
      "798331 827364\n",
      "798335 840741\n",
      "798374 816874\n",
      "798375 810685\n",
      "798379 812055\n",
      "798380 840113\n",
      "798396 817687\n",
      "798398 926302\n",
      "798405 867217\n",
      "798443 905923\n",
      "798457 918918\n",
      "798460 891840\n",
      "798461 940379\n",
      "798470 840814\n",
      "798474 963162\n",
      "798477 883244\n",
      "798485 955521\n",
      "798505 905671\n",
      "798545 949238\n",
      "798550 936295\n",
      "798626 845438\n",
      "798691 818279\n",
      "798692 898823\n",
      "798702 811440\n",
      "798704 937570\n",
      "798725 933147\n",
      "798738 894170\n",
      "798745 799665\n",
      "798782 956938\n",
      "798801 950802\n",
      "798820 890393\n",
      "798833 916319\n",
      "798865 962662\n",
      "798931 893574\n",
      "798946 946408\n",
      "799012 809997\n",
      "799024 935246\n"
     ]
    }
   ],
   "source": [
    "for val in result:\n",
    "    print('%s %s' % val);"
   ]
  },
  {
   "cell_type": "code",
   "execution_count": null,
   "metadata": {},
   "outputs": [],
   "source": []
  }
 ],
 "metadata": {
  "kernelspec": {
   "display_name": "Python 2",
   "language": "python",
   "name": "python2"
  },
  "language_info": {
   "codemirror_mode": {
    "name": "ipython",
    "version": 2
   },
   "file_extension": ".py",
   "mimetype": "text/x-python",
   "name": "python",
   "nbconvert_exporter": "python",
   "pygments_lexer": "ipython2",
   "version": "2.7.12"
  }
 },
 "nbformat": 4,
 "nbformat_minor": 2
}
